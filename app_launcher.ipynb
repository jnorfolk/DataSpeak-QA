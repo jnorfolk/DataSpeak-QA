{
  "nbformat": 4,
  "nbformat_minor": 0,
  "metadata": {
    "colab": {
      "provenance": [],
      "machine_shape": "hm",
      "gpuType": "V100",
      "mount_file_id": "12mG1au12zHEAR6StiyYd94wNxpr27pUW",
      "authorship_tag": "ABX9TyMAFxPO65fwqAeCu98oM6lc",
      "include_colab_link": true
    },
    "kernelspec": {
      "name": "python3",
      "display_name": "Python 3"
    },
    "language_info": {
      "name": "python"
    },
    "accelerator": "GPU"
  },
  "cells": [
    {
      "cell_type": "markdown",
      "metadata": {
        "id": "view-in-github",
        "colab_type": "text"
      },
      "source": [
        "<a href=\"https://colab.research.google.com/github/jnorfolk/DataSpeak-QA/blob/main/app_launcher.ipynb\" target=\"_parent\"><img src=\"https://colab.research.google.com/assets/colab-badge.svg\" alt=\"Open In Colab\"/></a>"
      ]
    },
    {
      "cell_type": "markdown",
      "source": [
        "In google colab - I upload app.py as a temporary file and then simply run this program. Use your own authorization token for ngrok, which can be found by following the link provided below."
      ],
      "metadata": {
        "id": "omSmN6sIuLjI"
      }
    },
    {
      "cell_type": "code",
      "source": [
        "!pip install streamlit\n",
        "!pip install pyngrok==4.1.1\n",
        "!pip install -qU \\\n",
        "  transformers==4.31.0 \\\n",
        "  sentence-transformers==2.2.2 \\\n",
        "  pinecone-client==2.2.2 \\\n",
        "  datasets==2.14.0 \\\n",
        "  accelerate==0.21.0 \\\n",
        "  einops==0.6.1 \\\n",
        "  langchain==0.0.240 \\\n",
        "  xformers==0.0.20 \\\n",
        "  bitsandbytes==0.41.0\n",
        "\n",
        "!streamlit run app.py &>/dev/null&\n",
        "\n",
        "print(\"Streamlit app running in background.\")\n",
        "\n",
        "# Go to https://dashboard.ngrok.com/get-started/your-authtoken to get your personal auth token\n",
        "from pyngrok import ngrok\n",
        "!ngrok authtoken 2XE86ZcnPkNcKke0D8LNWmgmFur_3bY1WzsnmNVmoHYAm9xGC\n",
        "public_url = ngrok.connect(port='8501')\n",
        "print(public_url)"
      ],
      "metadata": {
        "id": "W2rE_6tbkzjI"
      },
      "execution_count": null,
      "outputs": []
    }
  ]
}